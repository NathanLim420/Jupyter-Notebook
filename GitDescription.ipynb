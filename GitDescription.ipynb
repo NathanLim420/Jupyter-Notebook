{
 "cells": [
  {
   "cell_type": "markdown",
   "id": "e95fcb3f",
   "metadata": {},
   "source": [
    "Git and GitHub:\n",
    "\n",
    "1. Git allows for different versions of code to be saved across versions, thus allowing no interference between versions when changes are made.\n",
    "\n",
    "Important commands/codes:\n",
    "\n",
    "- git:\n",
    "- add:\n",
    "- push:"
   ]
  },
  {
   "cell_type": "markdown",
   "id": "91b1973b",
   "metadata": {},
   "source": [
    "<img src = \"Github.png\">"
   ]
  }
 ],
 "metadata": {
  "kernelspec": {
   "display_name": "Python 3",
   "language": "python",
   "name": "python3"
  },
  "language_info": {
   "codemirror_mode": {
    "name": "ipython",
    "version": 3
   },
   "file_extension": ".py",
   "mimetype": "text/x-python",
   "name": "python",
   "nbconvert_exporter": "python",
   "pygments_lexer": "ipython3",
   "version": "3.9.6"
  }
 },
 "nbformat": 4,
 "nbformat_minor": 5
}
